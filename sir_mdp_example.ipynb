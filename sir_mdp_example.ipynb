{
 "cells": [
  {
   "cell_type": "markdown",
   "metadata": {},
   "source": [
    "# Modelling epidemics evolution SIR model through a factored MDP\n",
    "\n",
    "brief descrition about this work\n",
    "\n",
    "[![Open In Colab](https://colab.research.google.com/assets/colab-badge.svg)](https://colab.research.google.com/github/danielbdias/mdp-sir-modelling/blob/master/sir_mdp_example.ipynb)"
   ]
  },
  {
   "cell_type": "markdown",
   "metadata": {},
   "source": [
    "## Dependencies setup"
   ]
  },
  {
   "cell_type": "code",
   "execution_count": 1,
   "metadata": {},
   "outputs": [],
   "source": [
    "# Uncomment this line to run this code on Google Colab\n",
    "#!sh google_colab_setup.sh\n",
    "\n",
    "# enable rich graphs instead of images on notebook\n",
    "import mpld3\n",
    "mpld3.enable_notebook()\n",
    "\n",
    "# code dependencies\n",
    "from sir_modelling.simulation import plot_sir\n",
    "from sir_modelling.enumerative_model import create_representation, simulate_policy\n",
    "from mdp.algorithms.value_iteration import enumerative_finite_horizon_value_iteration"
   ]
  },
  {
   "cell_type": "markdown",
   "metadata": {},
   "source": [
    "## Creating a model\n",
    "\n",
    "Model parameters"
   ]
  },
  {
   "cell_type": "code",
   "execution_count": 2,
   "metadata": {},
   "outputs": [],
   "source": [
    "approximation_threshold = 0.01\n",
    "\n",
    "# beta (infection rate)\n",
    "# assumption\n",
    "# beta < 1.0 - social distancing\n",
    "# beta >= 1.0 - no social distancing\n",
    "betas = [0.5, 1.0, 2.5, 4]\n",
    "\n",
    "# recovery rate (1 person each 4 days)\n",
    "gamma = 1.0 / 4.0\n",
    "\n",
    "horizon = 30\n",
    "discount_factor = 0.9\n",
    "\n",
    "initial_state = \"s_99_i_01_r_00\""
   ]
  },
  {
   "cell_type": "markdown",
   "metadata": {},
   "source": [
    "Creating MDP representation"
   ]
  },
  {
   "cell_type": "code",
   "execution_count": 3,
   "metadata": {},
   "outputs": [
    {
     "name": "stdout",
     "output_type": "stream",
     "text": [
      "states: 5151, ['s_00_i_00_r_100', 's_00_i_01_r_99', 's_00_i_02_r_98', 's_00_i_03_r_97', 's_00_i_04_r_96']\n",
      "actions: [0.5, 1.0, 2.5, 4]\n",
      "reward: 500.0\n",
      "transition: 1.0\n",
      "transition: 0.0\n"
     ]
    }
   ],
   "source": [
    "mdp = create_representation(approximation_threshold, gamma, betas)\n",
    "\n",
    "print(f\"states: {len(mdp.states)}, {mdp.states[0:5]}\")\n",
    "print(f\"actions: {mdp.actions}\")\n",
    "\n",
    "first_action = mdp.actions[0]\n",
    "\n",
    "print(f\"reward: {mdp.reward_matrix(first_action)[0, 0]}\")\n",
    "\n",
    "print(f\"transition: {mdp.transition_matrix(first_action)[0, 0]}\")\n",
    "print(f\"transition: {mdp.transition_matrix(first_action)[0, 1]}\")"
   ]
  },
  {
   "cell_type": "markdown",
   "metadata": {},
   "source": [
    "Running Value Iteration on model"
   ]
  },
  {
   "cell_type": "code",
   "execution_count": 4,
   "metadata": {},
   "outputs": [
    {
     "name": "stdout",
     "output_type": "stream",
     "text": [
      "statistics: {'iterations': 30, 'bellman_backups_done': 154530}\n",
      "max value: [9576.08841725]\n",
      "policy for first state: 0.5\n",
      "policy for initial state: 0.5\n",
      "min beta in policy: 0.5\n",
      "max beta in policy: 2.5\n"
     ]
    }
   ],
   "source": [
    "policy, value_function, statistics = enumerative_finite_horizon_value_iteration(mdp, discount_factor, horizon)\n",
    "\n",
    "print(f\"statistics: {statistics}\")\n",
    "print(f\"max value: {max(value_function)}\")\n",
    "print(f\"policy for first state: {policy[mdp.states[0]]}\")\n",
    "print(f\"policy for initial state: {policy[initial_state]}\")\n",
    "print(f\"min beta in policy: {min(policy.values())}\")\n",
    "print(f\"max beta in policy: {max(policy.values())}\")"
   ]
  },
  {
   "cell_type": "markdown",
   "metadata": {},
   "source": [
    "Simulate model using MDP"
   ]
  },
  {
   "cell_type": "code",
   "execution_count": 5,
   "metadata": {},
   "outputs": [
    {
     "ename": "ValueError",
     "evalue": "too many values to unpack (expected 3)",
     "output_type": "error",
     "traceback": [
      "\u001b[0;31m---------------------------------------------------------------------------\u001b[0m",
      "\u001b[0;31mValueError\u001b[0m                                Traceback (most recent call last)",
      "\u001b[0;32m<ipython-input-5-95532da5c4cc>\u001b[0m in \u001b[0;36m<module>\u001b[0;34m\u001b[0m\n\u001b[0;32m----> 1\u001b[0;31m \u001b[0mS\u001b[0m\u001b[0;34m,\u001b[0m \u001b[0mI\u001b[0m\u001b[0;34m,\u001b[0m \u001b[0mR\u001b[0m \u001b[0;34m=\u001b[0m \u001b[0msimulate_policy\u001b[0m\u001b[0;34m(\u001b[0m\u001b[0mpolicy\u001b[0m\u001b[0;34m,\u001b[0m \u001b[0minitial_state\u001b[0m\u001b[0;34m,\u001b[0m \u001b[0mmdp\u001b[0m\u001b[0;34m,\u001b[0m \u001b[0mhorizon\u001b[0m\u001b[0;34m,\u001b[0m \u001b[0mapproximation_threshold\u001b[0m\u001b[0;34m)\u001b[0m\u001b[0;34m\u001b[0m\u001b[0;34m\u001b[0m\u001b[0m\n\u001b[0m\u001b[1;32m      2\u001b[0m \u001b[0;34m\u001b[0m\u001b[0m\n\u001b[1;32m      3\u001b[0m \u001b[0mt\u001b[0m \u001b[0;34m=\u001b[0m \u001b[0mlist\u001b[0m\u001b[0;34m(\u001b[0m\u001b[0mrange\u001b[0m\u001b[0;34m(\u001b[0m\u001b[0mhorizon\u001b[0m \u001b[0;34m+\u001b[0m \u001b[0;36m1\u001b[0m\u001b[0;34m)\u001b[0m\u001b[0;34m)\u001b[0m\u001b[0;34m\u001b[0m\u001b[0;34m\u001b[0m\u001b[0m\n\u001b[1;32m      4\u001b[0m \u001b[0mplot_sir\u001b[0m\u001b[0;34m(\u001b[0m\u001b[0mt\u001b[0m\u001b[0;34m,\u001b[0m \u001b[0mS\u001b[0m\u001b[0;34m,\u001b[0m \u001b[0mI\u001b[0m\u001b[0;34m,\u001b[0m \u001b[0mR\u001b[0m\u001b[0;34m)\u001b[0m\u001b[0;34m\u001b[0m\u001b[0;34m\u001b[0m\u001b[0m\n",
      "\u001b[0;31mValueError\u001b[0m: too many values to unpack (expected 3)"
     ]
    }
   ],
   "source": [
    "S, I, R = simulate_policy(policy, initial_state, mdp, horizon, approximation_threshold)\n",
    "\n",
    "t = list(range(horizon + 1))\n",
    "plot_sir(t, S, I, R)"
   ]
  },
  {
   "cell_type": "code",
   "execution_count": null,
   "metadata": {},
   "outputs": [],
   "source": []
  }
 ],
 "metadata": {
  "kernelspec": {
   "display_name": "Python 3",
   "language": "python",
   "name": "python3"
  },
  "language_info": {
   "codemirror_mode": {
    "name": "ipython",
    "version": 3
   },
   "file_extension": ".py",
   "mimetype": "text/x-python",
   "name": "python",
   "nbconvert_exporter": "python",
   "pygments_lexer": "ipython3",
   "version": "3.7.6"
  }
 },
 "nbformat": 4,
 "nbformat_minor": 4
}
