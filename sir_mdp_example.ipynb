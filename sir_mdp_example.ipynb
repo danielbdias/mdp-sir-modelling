{
 "cells": [
  {
   "cell_type": "markdown",
   "metadata": {},
   "source": [
    "# Modelling epidemics evolution SIR model through a factored MDP\n",
    "\n",
    "brief descrition about this work\n",
    "\n",
    "[![Open In Colab](https://colab.research.google.com/assets/colab-badge.svg)](https://colab.research.google.com/github/danielbdias/mdp-sir-modelling/blob/master/sir_mdp_example.ipynb)"
   ]
  },
  {
   "cell_type": "markdown",
   "metadata": {},
   "source": [
    "## Dependencies setup"
   ]
  },
  {
   "cell_type": "code",
   "execution_count": 1,
   "metadata": {},
   "outputs": [],
   "source": [
    "# Uncomment this line to run this code on Google Colab\n",
    "#!sh -c \"$(curl -fsSL https://raw.githubusercontent.com/danielbdias/mdp-sir-modelling/master/google_colab_setup.sh)\"\n",
    "\n",
    "# enable rich graphs instead of images on notebook\n",
    "import mpld3\n",
    "mpld3.enable_notebook()\n",
    "\n",
    "# code dependencies\n",
    "from sir_modelling.simulation import plot_sir\n",
    "from sir_modelling.enumerative_model import create_representation\n",
    "from sir_modelling.enumerative_model_simulation import simulate_policy_with_mdp_model\n",
    "\n",
    "from mdp.algorithms.value_iteration import enumerative_finite_horizon_value_iteration"
   ]
  },
  {
   "cell_type": "markdown",
   "metadata": {},
   "source": [
    "## Creating a model\n",
    "\n",
    "Model parameters"
   ]
  },
  {
   "cell_type": "code",
   "execution_count": 2,
   "metadata": {},
   "outputs": [],
   "source": [
    "# approximate values by 2 decimal digits\n",
    "approximation_threshold = 1e-2\n",
    "\n",
    "# beta (infection rate)\n",
    "# assumption\n",
    "# beta < 1.0 - social distancing\n",
    "# beta >= 1.0 - no social distancing\n",
    "betas = [0.5, 1.0, 2.5, 4]\n",
    "\n",
    "# recovery rate (1 person each 4 days)\n",
    "gamma = 1.0 / 4.0\n",
    "\n",
    "horizon = 10 # in weeks\n",
    "discount_factor = 0.9\n",
    "\n",
    "steps_per_transition = 7 # each chosen action affects the virus evolution by 7 days (1 week)\n",
    "initial_state = \"s_99_i_01_r_00\""
   ]
  },
  {
   "cell_type": "markdown",
   "metadata": {},
   "source": [
    "Creating MDP representation"
   ]
  },
  {
   "cell_type": "code",
   "execution_count": 3,
   "metadata": {},
   "outputs": [
    {
     "name": "stdout",
     "output_type": "stream",
     "text": [
      "states: 5151, ['s_00_i_00_r_100', 's_00_i_01_r_99', 's_00_i_02_r_98', 's_00_i_03_r_97', 's_00_i_04_r_96']\n",
      "actions: [0.5, 1.0, 2.5, 4]\n"
     ]
    }
   ],
   "source": [
    "reward_function = lambda susceptibles, infective, recovered: 10 * susceptibles + 5 * recovered - 15 * infective\n",
    "mdp = create_representation(approximation_threshold, gamma, betas, steps_per_transition, reward_function)\n",
    "\n",
    "print(f\"states: {len(mdp.states)}, {mdp.states[0:5]}\")\n",
    "print(f\"actions: {mdp.actions}\")"
   ]
  },
  {
   "cell_type": "markdown",
   "metadata": {},
   "source": [
    "Running Value Iteration on model"
   ]
  },
  {
   "cell_type": "code",
   "execution_count": 4,
   "metadata": {},
   "outputs": [
    {
     "name": "stdout",
     "output_type": "stream",
     "text": [
      "max value: [6513.215599]\n",
      "policy for initial state: 0.5\n",
      "[min max] betas in policy: [0.5 4]\n"
     ]
    }
   ],
   "source": [
    "policy, value_function, statistics = enumerative_finite_horizon_value_iteration(mdp, discount_factor, horizon)\n",
    "\n",
    "print(f\"max value: {max(value_function)}\")\n",
    "print(f\"policy for initial state: {policy[initial_state]}\")\n",
    "print(f\"[min max] betas in policy: [{min(policy.values())} {max(policy.values())}]\")"
   ]
  },
  {
   "cell_type": "markdown",
   "metadata": {},
   "source": [
    "Simulate model using MDP"
   ]
  },
  {
   "cell_type": "code",
   "execution_count": 5,
   "metadata": {},
   "outputs": [
    {
     "data": {
      "image/png": "[encoded data removed]",
      "text/plain": [
       "<Figure size 720x288 with 1 Axes>"
      ]
     },
     "metadata": {
      "needs_background": "light"
     },
     "output_type": "display_data"
    },
    {
     "name": "stdout",
     "output_type": "stream",
     "text": [
      "[0.5, 0.5, 0.5, 0.5, 0.5, 0.5, 0.5, 0.5, 0.5, 0.5]\n"
     ]
    }
   ],
   "source": [
    "chosen_betas, S, I, R = simulate_policy_with_mdp_model(policy, initial_state, mdp, horizon, approximation_threshold)\n",
    "\n",
    "t = list(range(horizon + 1))\n",
    "plot_sir(t, S, I, R, time_label=\"weeks\")\n",
    "print(chosen_betas)"
   ]
  },
  {
   "cell_type": "code",
   "execution_count": null,
   "metadata": {},
   "outputs": [],
   "source": []
  }
 ],
 "metadata": {
  "kernelspec": {
   "display_name": "Python 3",
   "language": "python",
   "name": "python3"
  },
  "language_info": {
   "codemirror_mode": {
    "name": "ipython",
    "version": 3
   },
   "file_extension": ".py",
   "mimetype": "text/x-python",
   "name": "python",
   "nbconvert_exporter": "python",
   "pygments_lexer": "ipython3",
   "version": "3.7.6"
  }
 },
 "nbformat": 4,
 "nbformat_minor": 4
}
